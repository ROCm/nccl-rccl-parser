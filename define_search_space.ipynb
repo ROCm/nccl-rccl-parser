{
 "cells": [
  {
   "cell_type": "code",
   "execution_count": 17,
   "id": "27029548-3e66-44a4-98ad-78ef4e9180e1",
   "metadata": {},
   "outputs": [
    {
     "data": {
      "text/plain": [
       "2"
      ]
     },
     "execution_count": 17,
     "metadata": {},
     "output_type": "execute_result"
    }
   ],
   "source": [
    "python run_parser_and_generate_summary.py --nccl-debug-log gpt2_rccl_mp4_log_newPR.txt --rocm --unique\n"
   ]
  },
  {
   "cell_type": "code",
   "execution_count": null,
   "id": "0af7f7a0-1bcd-4fd6-a32c-098f5c5d9fa4",
   "metadata": {},
   "outputs": [],
   "source": [
    "topo_matrix = [[ 0, 15, 30, 15, 72, 72, 72, 72],\n",
    "               [15,  0, 15, 30, 72, 72, 72, 72],\n",
    "               [30, 15,  0, 15, 72, 72, 72, 72],\n",
    "               [15, 30, 15,  0, 72, 72, 72, 72],\n",
    "               [72, 72, 72, 72,  0, 15, 15, 30],\n",
    "               [72, 72, 72, 72, 15,  0, 30, 15],\n",
    "               [72, 72, 72, 72, 15, 30,  0, 15],\n",
    "               [72, 72, 72, 72, 30, 15, 15,  0]]\n",
    "\n",
    "# [[60, [{0, 1}, {0, 1}, {2, 3}, {2, 3}, {4, 5}, {4, 5}, {6, 7}, {6, 7}]]]\n",
    "\n",
    "topo_matrix_1 = [[0, 30, 15, 15, 72, 72, 72, 72],\n",
    "                [30,  0, 15, 15, 72, 72, 72, 72],\n",
    "                [15, 15,  0, 30, 72, 72, 72, 72],\n",
    "                [15, 15, 30,  0, 72, 72, 72, 72],\n",
    "                [72, 72, 72, 72,  0, 15, 15, 30],\n",
    "                [72, 72, 72, 72, 15,  0, 30, 15],\n",
    "                [72, 72, 72, 72, 15, 30,  0, 15],\n",
    "                [72, 72, 72, 72, 30, 15, 15,  0]]\n",
    "\n",
    "# [[90, [{0, 1}, {0, 1}, {2, 3}, {2, 3}, {4, 5}, {4, 5}, {6, 7}, {6, 7}]]]\n",
    "\n",
    "\n",
    "topo_matrix_2 = [[ 0, 72, 72, 72, 72, 72, 72, 72],\n",
    "                 [ 72, 0, 72, 72, 72, 72, 72, 72],\n",
    "                 [ 72, 72, 0, 72, 72, 72, 72, 72],\n",
    "                 [ 72, 72, 72, 0, 72, 72, 72, 72],\n",
    "                 [ 72, 72, 72, 72, 0, 72, 72, 72],\n",
    "                 [ 72, 72, 72, 72, 72, 0, 72, 72],\n",
    "                 [ 72, 72, 72, 72, 72, 72, 0, 72],\n",
    "                 [ 72, 72, 72, 72, 72, 72, 72, 0]]\n",
    "MP = 2\n",
    "\n",
    "# 0 [[0, 30, 15, 15, \n",
    "# 1 [30,  0, 15, 15, \n",
    "# 2 [15, 15,  0, 30, \n",
    "# 3 [15, 15, 30,  0,\n",
    "\n"
   ]
  },
  {
   "cell_type": "code",
   "execution_count": null,
   "id": "222bf946-b355-469f-ad6d-dcc816d9ded1",
   "metadata": {},
   "outputs": [],
   "source": [
    "############## How if (N % MP) != 0? ############## TODO\n",
    "############## How if (N % MP) != 0? ############## TODO\n",
    "############## How if (N % MP) != 0? ############## TODO: Add one more layer? N = 4  but we have 8 GPUs \n",
    "\"\"\"\n",
    "(0, 1, 2, 3)\n",
    "(0, 1, 2, 4)\n",
    "(0, 1, 2, 5)\n",
    "(0, 1, 2, 6)\n",
    ".\n",
    ".\n",
    ".\n",
    "C8_4?\n",
    "\"\"\"\n",
    "\n",
    "def procesResults(candidate):\n",
    "  candidate = list(candidate)\n",
    "  for i, ch in enumerate(candidate):\n",
    "    candidate[i] = ord(candidate[i]) - ord('a')\n",
    "  return candidate\n",
    "\n",
    "\n",
    "def findBestSubgroup(subgroup, topo_matrix):\n",
    "  candidates = list(it.permutations(subgroup, 4))\n",
    "  minSum = float('inf')\n",
    "  minCom = \"\"\n",
    "  for candidate in candidates:\n",
    "    tempSum = 0\n",
    "    for i in range(len(candidate) - 1):\n",
    "      tempSum += topo_matrix[ord(candidate[i]) - ord('a')][ord(candidate[i + 1]) - ord('a')]\n",
    "    if tempSum < minSum:\n",
    "      minSum = tempSum\n",
    "      # minCom = candidate\n",
    "      minCom = procesResults(candidate)\n",
    "  return minSum, minCom\n",
    "\n",
    "def findBestGroup(result, topo_matrix, N, MP):\n",
    "  minSum_group = float('inf')\n",
    "  minCom_group = []\n",
    "  for group in result: # ('ab', 'cd', 'ef', 'gh')\n",
    "    tempSum = 0\n",
    "    tempCom = []\n",
    "    for subgroup in group: # 'ab'\n",
    "      minSum, minCom = findBestSubgroup(subgroup, topo_matrix)\n",
    "      tempSum += minSum\n",
    "      tempCom.append(minCom)\n",
    "    if tempSum <= minSum_group:  ## Shall we collect the possibility with the same minimum sum of link weights?\n",
    "      if tempSum == minSum_group:\n",
    "        minCom_group.append([tempSum, tempCom])\n",
    "      else:\n",
    "        minSum_group = tempSum\n",
    "        minCom_group = [[tempSum, tempCom]]\n",
    "      # print(tempCom)\n",
    "  return minCom_group"
   ]
  },
  {
   "cell_type": "code",
   "execution_count": null,
   "id": "f359b53c-a968-4395-8c39-313f07d44646",
   "metadata": {},
   "outputs": [],
   "source": [
    "N = 8\n",
    "MP = 4\n",
    "minGroups = findBestGroup(result, topo_matrix_2, N, MP)\n",
    "# print(minSum)\n",
    "minGroups"
   ]
  },
  {
   "cell_type": "code",
   "execution_count": 2,
   "id": "1aa50bac-bc37-466e-9ced-783310c30ca0",
   "metadata": {},
   "outputs": [],
   "source": [
    "import sys\n",
    "sys.path.append(\"/opt/rocm/bin\")\n",
    "import rocm_smi\n"
   ]
  },
  {
   "cell_type": "code",
   "execution_count": 6,
   "id": "4458c339-e6ec-44b3-85ca-6927758861b1",
   "metadata": {},
   "outputs": [
    {
     "data": {
      "text/plain": [
       "\u001b[0;31mType:\u001b[0m        module\n",
       "\u001b[0;31mString form:\u001b[0m <module 'rocm_smi' from '/opt/rocm/bin/rocm_smi.py'>\n",
       "\u001b[0;31mFile:\u001b[0m        /opt/rocm/bin/rocm_smi.py\n",
       "\u001b[0;31mDocstring:\u001b[0m  \n",
       "ROCm_SMI_LIB CLI Tool\n",
       "\n",
       "This tool acts as a command line interface for manipulating\n",
       "and monitoring the amdgpu kernel, and is intended to replace\n",
       "and deprecate the existing rocm_smi.py CLI tool.\n",
       "It uses Ctypes to call the rocm_smi_lib API.\n",
       "Recommended: At least one AMD GPU with ROCm driver installed\n",
       "Required: ROCm SMI library installed (librocm_smi64)\n"
      ]
     },
     "metadata": {},
     "output_type": "display_data"
    }
   ],
   "source": [
    "rocm_smi?"
   ]
  },
  {
   "cell_type": "code",
   "execution_count": null,
   "id": "fc71924f-9291-4a03-9275-d3a6c08afbf1",
   "metadata": {},
   "outputs": [],
   "source": [
    "if args.device is not None:\n",
    "        deviceList = []\n",
    "        for device in args.device:\n",
    "            if not doesDeviceExist(device):\n",
    "                logging.warning('No such device card%s', str(device))\n",
    "                sys.exit()\n",
    "            if (isAmdDevice(device) or args.alldevices) and device not in deviceList:\n",
    "                deviceList.append(device)\n",
    "    else:\n",
    "        deviceList = rocm_smi.listDevices()"
   ]
  },
  {
   "cell_type": "code",
   "execution_count": 14,
   "id": "b94872bc-022c-4097-aaca-41bd4724dde0",
   "metadata": {},
   "outputs": [],
   "source": [
    "deviceList = rocm_smi.listDevices()\n",
    "\n",
    "def listDevices():\n",
    "    \"\"\" Returns a list of GPU devices \"\"\"\n",
    "    numberOfDevices = c_uint32(0)\n",
    "    ret = rocmsmi.rsmi_num_monitor_devices(byref(numberOfDevices))\n",
    "    if rocm_smi.rsmi_ret_ok(ret):\n",
    "        deviceList = list(range(numberOfDevices.value))\n",
    "        return deviceList\n",
    "    else:\n",
    "        exit(ret)\n"
   ]
  },
  {
   "cell_type": "code",
   "execution_count": 35,
   "id": "823b4778-ad6d-4b98-bef3-4a23e5930c4a",
   "metadata": {},
   "outputs": [
    {
     "name": "stdout",
     "output_type": "stream",
     "text": [
      "==== [] c_uint(0)\n"
     ]
    }
   ],
   "source": [
    "import sys\n",
    "sys.path.append(\"/opt/rocm/bin\")\n",
    "import rocm_smi\n",
    "from rsmiBindings import *\n",
    "def listDevices():\n",
    "    \"\"\" Returns a list of GPU devices \"\"\"\n",
    "    numberOfDevices = c_uint32(0)\n",
    "    ret = rocmsmi.rsmi_num_monitor_devices(byref(numberOfDevices))\n",
    "    if rocm_smi.rsmi_ret_ok(ret):\n",
    "        deviceList = list(range(numberOfDevices.value))\n",
    "        print(\"====\", deviceList, numberOfDevices)\n",
    "        return deviceList\n",
    "    else:\n",
    "        exit(ret)\n",
    "        \n",
    "if __name__ == '__main__':\n",
    "    listDevices()"
   ]
  },
  {
   "cell_type": "code",
   "execution_count": 36,
   "id": "83080715-da2d-48d5-b8ab-b56ffb6f09f7",
   "metadata": {},
   "outputs": [
    {
     "name": "stdout",
     "output_type": "stream",
     "text": [
      "==== [] c_uint(0)\n"
     ]
    },
    {
     "data": {
      "text/plain": [
       "[]"
      ]
     },
     "execution_count": 36,
     "metadata": {},
     "output_type": "execute_result"
    }
   ],
   "source": [
    "listDevices()\n",
    "\n"
   ]
  },
  {
   "cell_type": "code",
   "execution_count": 37,
   "id": "bbc4d568-54b2-456a-80a8-da8b29cf69dd",
   "metadata": {},
   "outputs": [
    {
     "ename": "NameError",
     "evalue": "name 'srcdevice' is not defined",
     "output_type": "error",
     "traceback": [
      "\u001b[0;31m---------------------------------------------------------------------------\u001b[0m",
      "\u001b[0;31mNameError\u001b[0m                                 Traceback (most recent call last)",
      "\u001b[0;32m<ipython-input-37-086a1c52e80e>\u001b[0m in \u001b[0;36m<module>\u001b[0;34m\u001b[0m\n\u001b[1;32m      1\u001b[0m \u001b[0;31m# weight = c_uint64()\u001b[0m\u001b[0;34m\u001b[0m\u001b[0;34m\u001b[0m\u001b[0;34m\u001b[0m\u001b[0m\n\u001b[0;32m----> 2\u001b[0;31m \u001b[0mret\u001b[0m \u001b[0;34m=\u001b[0m \u001b[0mrocmsmi\u001b[0m\u001b[0;34m.\u001b[0m\u001b[0mrsmi_topo_get_link_weight\u001b[0m\u001b[0;34m(\u001b[0m\u001b[0msrcdevice\u001b[0m\u001b[0;34m,\u001b[0m \u001b[0mdestdevice\u001b[0m\u001b[0;34m,\u001b[0m \u001b[0mbyref\u001b[0m\u001b[0;34m(\u001b[0m\u001b[0mweight\u001b[0m\u001b[0;34m)\u001b[0m\u001b[0;34m)\u001b[0m\u001b[0;34m\u001b[0m\u001b[0;34m\u001b[0m\u001b[0m\n\u001b[0m",
      "\u001b[0;31mNameError\u001b[0m: name 'srcdevice' is not defined"
     ]
    }
   ],
   "source": [
    "# weight = c_uint64()\n",
    "ret = rocmsmi.rsmi_topo_get_link_weight(srcdevice, destdevice, byref(weight))"
   ]
  },
  {
   "cell_type": "code",
   "execution_count": 26,
   "id": "8c71f045-9b38-4b8d-b823-10b4a268b0b3",
   "metadata": {},
   "outputs": [
    {
     "name": "stderr",
     "output_type": "stream",
     "text": [
      "ERROR:root:RSMI_STATUS_INVALID_ARGS: The provided arguments do not meet the preconditions required for calling this function.\t\n"
     ]
    },
    {
     "name": "stdout",
     "output_type": "stream",
     "text": [
      "=========================== Weight between two GPUs ============================\n"
     ]
    },
    {
     "ename": "TypeError",
     "evalue": "printErrLog() takes 2 positional arguments but 3 were given",
     "output_type": "error",
     "traceback": [
      "\u001b[0;31m---------------------------------------------------------------------------\u001b[0m",
      "\u001b[0;31mTypeError\u001b[0m                                 Traceback (most recent call last)",
      "\u001b[0;32m<ipython-input-26-5e07c04b863f>\u001b[0m in \u001b[0;36m<module>\u001b[0;34m\u001b[0m\n\u001b[0;32m----> 1\u001b[0;31m \u001b[0mrocm_smi\u001b[0m\u001b[0;34m.\u001b[0m\u001b[0mshowWeightTopology\u001b[0m\u001b[0;34m(\u001b[0m\u001b[0;34m[\u001b[0m\u001b[0;36m0\u001b[0m\u001b[0;34m,\u001b[0m\u001b[0;36m1\u001b[0m\u001b[0;34m,\u001b[0m\u001b[0;36m2\u001b[0m\u001b[0;34m,\u001b[0m\u001b[0;36m3\u001b[0m\u001b[0;34m,\u001b[0m\u001b[0;36m4\u001b[0m\u001b[0;34m,\u001b[0m\u001b[0;36m5\u001b[0m\u001b[0;34m,\u001b[0m\u001b[0;36m6\u001b[0m\u001b[0;34m,\u001b[0m\u001b[0;36m7\u001b[0m\u001b[0;34m]\u001b[0m\u001b[0;34m)\u001b[0m\u001b[0;34m\u001b[0m\u001b[0;34m\u001b[0m\u001b[0m\n\u001b[0m",
      "\u001b[0;32m/opt/rocm/bin/rocm_smi.py\u001b[0m in \u001b[0;36mshowWeightTopology\u001b[0;34m(deviceList)\u001b[0m\n\u001b[1;32m   2082\u001b[0m                 \u001b[0mgpu_links_weight\u001b[0m\u001b[0;34m[\u001b[0m\u001b[0msrcdevice\u001b[0m\u001b[0;34m]\u001b[0m\u001b[0;34m[\u001b[0m\u001b[0mdestdevice\u001b[0m\u001b[0;34m]\u001b[0m \u001b[0;34m=\u001b[0m \u001b[0mweight\u001b[0m\u001b[0;34m\u001b[0m\u001b[0;34m\u001b[0m\u001b[0m\n\u001b[1;32m   2083\u001b[0m             \u001b[0;32melse\u001b[0m\u001b[0;34m:\u001b[0m\u001b[0;34m\u001b[0m\u001b[0;34m\u001b[0m\u001b[0m\n\u001b[0;32m-> 2084\u001b[0;31m                 \u001b[0mprintErrLog\u001b[0m\u001b[0;34m(\u001b[0m\u001b[0msrcdevice\u001b[0m\u001b[0;34m,\u001b[0m \u001b[0;34m'Cannot read Link Weight: Not supported on this machine'\u001b[0m\u001b[0;34m,\u001b[0m \u001b[0;32mNone\u001b[0m\u001b[0;34m)\u001b[0m\u001b[0;34m\u001b[0m\u001b[0;34m\u001b[0m\u001b[0m\n\u001b[0m\u001b[1;32m   2085\u001b[0m \u001b[0;34m\u001b[0m\u001b[0m\n\u001b[1;32m   2086\u001b[0m     \u001b[0;32mif\u001b[0m \u001b[0mPRINT_JSON\u001b[0m\u001b[0;34m:\u001b[0m\u001b[0;34m\u001b[0m\u001b[0;34m\u001b[0m\u001b[0m\n",
      "\u001b[0;31mTypeError\u001b[0m: printErrLog() takes 2 positional arguments but 3 were given"
     ]
    }
   ],
   "source": [
    "rocm_smi.showWeightTopology([0,1,2,3,4,5,6,7])"
   ]
  },
  {
   "cell_type": "code",
   "execution_count": 22,
   "id": "30e997cb-d646-4820-bdc7-9995cb7518c9",
   "metadata": {},
   "outputs": [
    {
     "name": "stdout",
     "output_type": "stream",
     "text": [
      "\n",
      "\n",
      "======================= ROCm System Management Interface =======================\n",
      "================================== Numa Nodes ==================================\n",
      "GPU[0]\t\t: (Topology) Numa Node: 0\n",
      "GPU[0]\t\t: (Topology) Numa Affinity: 0\n",
      "GPU[1]\t\t: (Topology) Numa Node: 0\n",
      "GPU[1]\t\t: (Topology) Numa Affinity: 0\n",
      "GPU[2]\t\t: (Topology) Numa Node: 0\n",
      "GPU[2]\t\t: (Topology) Numa Affinity: 0\n",
      "GPU[3]\t\t: (Topology) Numa Node: 0\n",
      "GPU[3]\t\t: (Topology) Numa Affinity: 0\n",
      "GPU[4]\t\t: (Topology) Numa Node: 1\n",
      "GPU[4]\t\t: (Topology) Numa Affinity: 1\n",
      "GPU[5]\t\t: (Topology) Numa Node: 1\n",
      "GPU[5]\t\t: (Topology) Numa Affinity: 1\n",
      "GPU[6]\t\t: (Topology) Numa Node: 1\n",
      "GPU[6]\t\t: (Topology) Numa Affinity: 1\n",
      "GPU[7]\t\t: (Topology) Numa Node: 1\n",
      "GPU[7]\t\t: (Topology) Numa Affinity: 1\n",
      "============================= End of ROCm SMI Log ==============================\n"
     ]
    }
   ],
   "source": [
    "!rocm-smi --showtoponuma"
   ]
  },
  {
   "cell_type": "code",
   "execution_count": 48,
   "id": "c183ee2c-65fe-4957-a724-778d55270865",
   "metadata": {},
   "outputs": [],
   "source": [
    "import sys\n",
    "sys.path.append(\"/opt/rocm/bin\")\n",
    "import rocm_smi\n",
    "import numpy as np\n",
    "from rsmiBindings import *\n",
    "rocm_smi.initializeRsmi()\n",
    "deviceList = rocm_smi.listDevices()\n",
    "devices_ind = range(len(deviceList))\n",
    "link_weights = np.zeros(shape=(len(devices_ind),len(devices_ind)), dtype=np.uint32)\n",
    "numa_nodes = np.zeros(shape=(len(devices_ind)), dtype=np.uint32)\n",
    "\n",
    "# rocm_smi.showWeightTopology(deviceList)\n",
    "def showWeightTopology(deviceList, link_weights):\n",
    "    # gpu_links_weight = [[0 for x in devices_ind] for y in devices_ind]\n",
    "    for srcdevice in deviceList:\n",
    "        for destdevice in deviceList:\n",
    "            if (srcdevice == destdevice):\n",
    "                # gpu_links_weight[srcdevice][destdevice] = 0\n",
    "                link_weights[srcdevice][destdevice] = 0\n",
    "                continue\n",
    "            weight = c_uint64()\n",
    "            ret = rocmsmi.rsmi_topo_get_link_weight(srcdevice, destdevice, byref(weight))\n",
    "            if rocm_smi.rsmi_ret_ok(ret):\n",
    "                # gpu_links_weight[srcdevice][destdevice] = weight.value\n",
    "                link_weights[srcdevice][destdevice] = weight.value\n",
    "            else:\n",
    "                rocm_smi.printErrLog(srcdevice, 'Cannot read Link Weight: Not supported on this machine', None)\n",
    "    # return gpu_links_weight\n",
    "    return link_weights\n",
    "\n",
    "# rocm_smi.showWeightTopology(deviceList)\n",
    "def showNumaTopology(deviceList, numa_nodes):\n",
    "    \"\"\" Display the HW Topology Information for numa nodes\n",
    "    This reads the HW Topology file and display the matrix for the nodes\n",
    "    @param deviceList: List of DRM devices (can be a single-item list)\n",
    "    \"\"\"\n",
    "    numa_numbers = c_uint32()\n",
    "    for device in deviceList:\n",
    "        ret = rocmsmi.rsmi_topo_get_numa_node_number(device, byref(numa_numbers))\n",
    "        if rocm_smi.rsmi_ret_ok(ret, device):\n",
    "            numa_nodes[device] = numa_numbers.value\n",
    "        else:\n",
    "            rocm_smi.printErrLog(device, \"Cannot read Numa Node\")\n",
    "    return numa_nodes"
   ]
  },
  {
   "cell_type": "code",
   "execution_count": 34,
   "id": "b12ca25a-4dbd-45e3-89b5-24c4a6c33ccd",
   "metadata": {},
   "outputs": [],
   "source": [
    "link_weights = showWeightTopology(deviceList, link_weights)"
   ]
  },
  {
   "cell_type": "code",
   "execution_count": 49,
   "id": "a9eeabcd-9a0c-4bcd-89f6-71e61be24aa3",
   "metadata": {},
   "outputs": [],
   "source": [
    "numa_nodes = showNumaTopology(deviceList, numa_nodes)"
   ]
  },
  {
   "cell_type": "code",
   "execution_count": 44,
   "id": "9bbb6a43-f44e-4667-9a3e-da88f3e681b3",
   "metadata": {},
   "outputs": [
    {
     "data": {
      "text/plain": [
       "int"
      ]
     },
     "execution_count": 44,
     "metadata": {},
     "output_type": "execute_result"
    }
   ],
   "source": []
  },
  {
   "cell_type": "markdown",
   "id": "517569ab-95ee-488f-ab55-f5abf63c068a",
   "metadata": {},
   "source": [
    "---\n",
    "# The device ids of ROCm-SMI are as same as those of HIP.\n"
   ]
  },
  {
   "cell_type": "code",
   "execution_count": 20,
   "id": "7fce8c58-5a02-4ddc-a9e5-8128c3d9b163",
   "metadata": {},
   "outputs": [
    {
     "name": "stdout",
     "output_type": "stream",
     "text": [
      "0\n",
      "15\n",
      "30\n",
      "15\n",
      "72\n",
      "72\n",
      "72\n",
      "72\n",
      "15\n",
      "0\n",
      "15\n",
      "30\n",
      "72\n",
      "72\n",
      "72\n",
      "72\n",
      "30\n",
      "15\n",
      "0\n",
      "15\n",
      "72\n",
      "72\n",
      "72\n",
      "72\n",
      "15\n",
      "30\n",
      "15\n",
      "0\n",
      "72\n",
      "72\n",
      "72\n",
      "72\n",
      "72\n",
      "72\n",
      "72\n",
      "72\n",
      "0\n",
      "15\n",
      "15\n",
      "30\n",
      "72\n",
      "72\n",
      "72\n",
      "72\n",
      "15\n",
      "0\n",
      "30\n",
      "15\n",
      "72\n",
      "72\n",
      "72\n",
      "72\n",
      "15\n",
      "30\n",
      "0\n",
      "15\n",
      "72\n",
      "72\n",
      "72\n",
      "72\n",
      "30\n",
      "15\n",
      "15\n",
      "0\n"
     ]
    }
   ],
   "source": [
    "len(gpu_links_weight)\n",
    "for src, link_list in enumerate(gpu_links_weight):\n",
    "    for des, weight in enumerate(link_list):\n",
    "        if src == des: print(weight)\n",
    "        else: print(weight.value)"
   ]
  },
  {
   "cell_type": "code",
   "execution_count": 5,
   "id": "76095a4c-4cd9-4de7-9cb5-82500c6718e8",
   "metadata": {},
   "outputs": [
    {
     "data": {
      "text/plain": [
       "[0, 1, 2, 3, 4, 5, 6, 7]"
      ]
     },
     "execution_count": 5,
     "metadata": {},
     "output_type": "execute_result"
    }
   ],
   "source": [
    "def showWeightTopology(deviceList):\n",
    "    \"\"\" Display the HW Topology Information based on weights\n",
    "    This reads the HW Topology file and displays the matrix for the nodes\n",
    "    @param deviceList: List of DRM devices (can be a single-item list)\n",
    "    \"\"\"\n",
    "    global PRINT_JSON\n",
    "    devices_ind = range(len(deviceList))\n",
    "    gpu_links_weight = [[0 for x in devices_ind] for y in devices_ind]\n",
    "    printLogSpacer(' Weight between two GPUs ')\n",
    "    for srcdevice in deviceList:\n",
    "        for destdevice in deviceList:\n",
    "            if (srcdevice == destdevice):\n",
    "                gpu_links_weight[srcdevice][destdevice] = 0\n",
    "                continue\n",
    "            weight = c_uint64()\n",
    "            ret = rocmsmi.rsmi_topo_get_link_weight(srcdevice, destdevice, byref(weight))\n",
    "            if rsmi_ret_ok(ret):\n",
    "                gpu_links_weight[srcdevice][destdevice] = weight\n",
    "            else:\n",
    "                printErrLog(srcdevice, 'Cannot read Link Weight: Not supported on this machine', None)\n",
    "\n",
    "    if PRINT_JSON:\n",
    "        formatMatrixToJSON(deviceList, gpu_links_weight, \"(Topology) Weight between DRM devices {} and {}\")\n",
    "        return\n",
    "\n",
    "    printTableRow(None, '      ')\n",
    "    for row in deviceList:\n",
    "        tmp = 'GPU%d' % row\n",
    "        printTableRow('%-12s', tmp)\n",
    "    printEmptyLine()\n",
    "    for gpu1 in deviceList:\n",
    "        tmp = 'GPU%d' % gpu1\n",
    "        printTableRow('%-6s', tmp)\n",
    "        for gpu2 in deviceList:\n",
    "            if (gpu1 == gpu2):\n",
    "                printTableRow('%-12s', '0')\n",
    "            else:\n",
    "                printTableRow('%-12s', gpu_links_weight[gpu1][gpu2].value)\n",
    "        printEmptyLine()"
   ]
  },
  {
   "cell_type": "code",
   "execution_count": 53,
   "id": "1ab5dcb5-c8ea-4dc2-a342-f4fcb6e77fbd",
   "metadata": {},
   "outputs": [],
   "source": [
    "!/opt/rocm/bin/rocm-smi --showtopoweight --json > rocm_smi.json"
   ]
  },
  {
   "cell_type": "code",
   "execution_count": null,
   "id": "fdc8573e-4832-46d2-a58b-2373b7bc1db5",
   "metadata": {},
   "outputs": [],
   "source": [
    "python /opt/rocm/bin/rocm_smi.py --showtopoweight"
   ]
  }
 ],
 "metadata": {
  "kernelspec": {
   "display_name": "Python 3",
   "language": "python",
   "name": "python3"
  },
  "language_info": {
   "codemirror_mode": {
    "name": "ipython",
    "version": 3
   },
   "file_extension": ".py",
   "mimetype": "text/x-python",
   "name": "python",
   "nbconvert_exporter": "python",
   "pygments_lexer": "ipython3",
   "version": "3.6.13"
  }
 },
 "nbformat": 4,
 "nbformat_minor": 5
}
